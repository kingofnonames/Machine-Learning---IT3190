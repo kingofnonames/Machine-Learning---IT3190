{
  "nbformat": 4,
  "nbformat_minor": 0,
  "metadata": {
    "colab": {
      "provenance": [],
      "gpuType": "T4"
    },
    "kernelspec": {
      "name": "python3",
      "display_name": "Python 3"
    },
    "language_info": {
      "name": "python"
    },
    "accelerator": "GPU"
  },
  "cells": [
    {
      "cell_type": "code",
      "execution_count": 1,
      "metadata": {
        "id": "o-DWRr1wvGLV"
      },
      "outputs": [],
      "source": [
        "import numpy as np\n",
        "import h5py\n",
        "from sklearn.model_selection import train_test_split\n",
        "from sklearn.preprocessing import LabelEncoder\n",
        "from tensorflow.keras.models import Model\n",
        "from tensorflow.keras.layers import (Input, Conv2D, MaxPooling2D, BatchNormalization, Reshape,\n",
        "                                     Bidirectional, LSTM, Dense, Dropout)\n",
        "from tensorflow.keras.utils import to_categorical\n",
        "from tensorflow.keras.optimizers import Adam"
      ]
    },
    {
      "cell_type": "code",
      "source": [
        "from google.colab import drive\n",
        "drive.mount('/content/drive')\n"
      ],
      "metadata": {
        "colab": {
          "base_uri": "https://localhost:8080/"
        },
        "id": "lXKk-jbYv1ML",
        "outputId": "e97eaf82-cef0-4af2-89ab-5fda35793fe7"
      },
      "execution_count": 2,
      "outputs": [
        {
          "output_type": "stream",
          "name": "stdout",
          "text": [
            "Mounted at /content/drive\n"
          ]
        }
      ]
    },
    {
      "cell_type": "code",
      "source": [
        "file_path = \"/content/drive/MyDrive/path/to/mel_spectrogram_sax.h5\"\n"
      ],
      "metadata": {
        "id": "6a1ujkMWyPNc"
      },
      "execution_count": null,
      "outputs": []
    },
    {
      "cell_type": "code",
      "source": [
        "def load_mel_spectrograms_from_h5(file_path, label):\n",
        "    with h5py.File(file_path, \"r\") as h5_file:\n",
        "        X = [np.array(h5_file[key]) for key in h5_file.keys()]\n",
        "    y = [label] * len(X)\n",
        "    return np.array(X), np.array(y)"
      ],
      "metadata": {
        "id": "wfRehE2Vyw6i"
      },
      "execution_count": 3,
      "outputs": []
    },
    {
      "cell_type": "code",
      "source": [
        "dataset_paths = [\n",
        "    (\"/content/drive/MyDrive/Bách Khoa/HMKPDL/Data/mel_spectrogram_piano.h5\", \"piano\"),\n",
        "    (\"/content/drive/MyDrive/Bách Khoa/HMKPDL/Data/mel_spectrogram_guitar.h5\", \"guitar\"),\n",
        "    (\"/content/drive/MyDrive/Bách Khoa/HMKPDL/Data/mel_spectrogram_sax.h5\", \"sax\"),\n",
        "    (\"/content/drive/MyDrive/Bách Khoa/HMKPDL/Data/mel_spectrogram_sax2.h5\", \"sax\"),\n",
        "    (\"/content/drive/MyDrive/Bách Khoa/HMKPDL/Data/mel_spectrogram_trong.h5\", \"trong\"),\n",
        "    (\"/content/drive/MyDrive/Bách Khoa/HMKPDL/Data/mel_spectrogram_violin.h5\", \"violin\"),\n",
        "    (\"/content/drive/MyDrive/Bách Khoa/HMKPDL/Data/sao_mel_spectrogram.h5\", \"sao\"),\n",
        "    (\"/content/drive/MyDrive/Bách Khoa/HMKPDL/Data/trumpet_mel_spectrogram.h5\", \"trumpet\")\n",
        "]"
      ],
      "metadata": {
        "id": "do6v9ozVy08K"
      },
      "execution_count": 12,
      "outputs": []
    },
    {
      "cell_type": "code",
      "source": [
        "all_data = []\n",
        "all_labels = []\n",
        "for path, label in dataset_paths:\n",
        "    X_part, y_part = load_mel_spectrograms_from_h5(path, label)\n",
        "    all_data.append(X_part)\n",
        "    all_labels.append(y_part)"
      ],
      "metadata": {
        "id": "Hkr8mivY1Rqs"
      },
      "execution_count": 14,
      "outputs": []
    },
    {
      "cell_type": "code",
      "source": [
        "X = np.concatenate(all_data, axis=0).astype(\"float32\")\n",
        "y = np.concatenate(all_labels, axis=0)"
      ],
      "metadata": {
        "id": "2QDdNSjS2H1E"
      },
      "execution_count": 15,
      "outputs": []
    },
    {
      "cell_type": "code",
      "source": [
        "X = X / np.max(X)\n",
        "X = X[..., np.newaxis]  # Shape becomes (samples, 128, 130, 1)"
      ],
      "metadata": {
        "id": "X8z6ezja2K_b"
      },
      "execution_count": 16,
      "outputs": []
    },
    {
      "cell_type": "code",
      "source": [
        "le = LabelEncoder()\n",
        "y_encoded = le.fit_transform(y)\n",
        "y = to_categorical(y_encoded)"
      ],
      "metadata": {
        "id": "gLly9lp22L5y"
      },
      "execution_count": 17,
      "outputs": []
    },
    {
      "cell_type": "code",
      "source": [
        "X_train, X_test, y_train, y_test = train_test_split(X, y, test_size=0.2, stratify=y_encoded, random_state=42)"
      ],
      "metadata": {
        "id": "3Pbb5f_62Pjb"
      },
      "execution_count": 18,
      "outputs": []
    },
    {
      "cell_type": "code",
      "source": [
        "def build_crnn_model(input_shape, num_classes):\n",
        "    inp = Input(shape=input_shape)\n",
        "    x = Conv2D(32, (3, 3), activation='relu', padding='same')(inp)\n",
        "    x = MaxPooling2D((2, 2))(x)\n",
        "    x = BatchNormalization()(x)\n",
        "\n",
        "    x = Conv2D(64, (3, 3), activation='relu', padding='same')(x)\n",
        "    x = MaxPooling2D((2, 2))(x)\n",
        "    x = BatchNormalization()(x)\n",
        "\n",
        "    # Reshape for RNN input: (batch, time, features)\n",
        "    shape = x.shape\n",
        "    x = Reshape((shape[1], shape[2]*shape[3]))(x)\n",
        "    x = Bidirectional(LSTM(64, return_sequences=False))(x)\n",
        "\n",
        "    x = Dropout(0.5)(x)\n",
        "    out = Dense(num_classes, activation='softmax')(x)\n",
        "\n",
        "    model = Model(inputs=inp, outputs=out)\n",
        "    model.compile(optimizer=Adam(1e-4), loss='categorical_crossentropy', metrics=['accuracy'])\n",
        "    return model\n",
        "\n",
        "model = build_crnn_model(input_shape=(128, 130, 1), num_classes=y.shape[1])\n"
      ],
      "metadata": {
        "id": "TKpQIUlE2QYb"
      },
      "execution_count": 19,
      "outputs": []
    },
    {
      "cell_type": "code",
      "source": [
        "model.fit(X_train, y_train, validation_data=(X_test, y_test), epochs=20, batch_size=32)"
      ],
      "metadata": {
        "colab": {
          "base_uri": "https://localhost:8080/"
        },
        "id": "33GpVFGW2WYq",
        "outputId": "bad51866-613e-444f-d13e-f8d79e3c6781"
      },
      "execution_count": 20,
      "outputs": [
        {
          "output_type": "stream",
          "name": "stdout",
          "text": [
            "Epoch 1/20\n",
            "\u001b[1m382/382\u001b[0m \u001b[32m━━━━━━━━━━━━━━━━━━━━\u001b[0m\u001b[37m\u001b[0m \u001b[1m21s\u001b[0m 32ms/step - accuracy: 0.5831 - loss: 1.2004 - val_accuracy: 0.0851 - val_loss: 2.7404\n",
            "Epoch 2/20\n",
            "\u001b[1m382/382\u001b[0m \u001b[32m━━━━━━━━━━━━━━━━━━━━\u001b[0m\u001b[37m\u001b[0m \u001b[1m15s\u001b[0m 28ms/step - accuracy: 0.8210 - loss: 0.5803 - val_accuracy: 0.5254 - val_loss: 1.2000\n",
            "Epoch 3/20\n",
            "\u001b[1m382/382\u001b[0m \u001b[32m━━━━━━━━━━━━━━━━━━━━\u001b[0m\u001b[37m\u001b[0m \u001b[1m11s\u001b[0m 29ms/step - accuracy: 0.8776 - loss: 0.3954 - val_accuracy: 0.8962 - val_loss: 0.3395\n",
            "Epoch 4/20\n",
            "\u001b[1m382/382\u001b[0m \u001b[32m━━━━━━━━━━━━━━━━━━━━\u001b[0m\u001b[37m\u001b[0m \u001b[1m11s\u001b[0m 29ms/step - accuracy: 0.9036 - loss: 0.3187 - val_accuracy: 0.9116 - val_loss: 0.3052\n",
            "Epoch 5/20\n",
            "\u001b[1m382/382\u001b[0m \u001b[32m━━━━━━━━━━━━━━━━━━━━\u001b[0m\u001b[37m\u001b[0m \u001b[1m20s\u001b[0m 29ms/step - accuracy: 0.9277 - loss: 0.2568 - val_accuracy: 0.9329 - val_loss: 0.2286\n",
            "Epoch 6/20\n",
            "\u001b[1m382/382\u001b[0m \u001b[32m━━━━━━━━━━━━━━━━━━━━\u001b[0m\u001b[37m\u001b[0m \u001b[1m20s\u001b[0m 28ms/step - accuracy: 0.9414 - loss: 0.1993 - val_accuracy: 0.9345 - val_loss: 0.2110\n",
            "Epoch 7/20\n",
            "\u001b[1m382/382\u001b[0m \u001b[32m━━━━━━━━━━━━━━━━━━━━\u001b[0m\u001b[37m\u001b[0m \u001b[1m11s\u001b[0m 28ms/step - accuracy: 0.9505 - loss: 0.1705 - val_accuracy: 0.9336 - val_loss: 0.2134\n",
            "Epoch 8/20\n",
            "\u001b[1m382/382\u001b[0m \u001b[32m━━━━━━━━━━━━━━━━━━━━\u001b[0m\u001b[37m\u001b[0m \u001b[1m21s\u001b[0m 29ms/step - accuracy: 0.9557 - loss: 0.1462 - val_accuracy: 0.9460 - val_loss: 0.1918\n",
            "Epoch 9/20\n",
            "\u001b[1m382/382\u001b[0m \u001b[32m━━━━━━━━━━━━━━━━━━━━\u001b[0m\u001b[37m\u001b[0m \u001b[1m21s\u001b[0m 30ms/step - accuracy: 0.9678 - loss: 0.1133 - val_accuracy: 0.9011 - val_loss: 0.2942\n",
            "Epoch 10/20\n",
            "\u001b[1m382/382\u001b[0m \u001b[32m━━━━━━━━━━━━━━━━━━━━\u001b[0m\u001b[37m\u001b[0m \u001b[1m11s\u001b[0m 29ms/step - accuracy: 0.9719 - loss: 0.1009 - val_accuracy: 0.9421 - val_loss: 0.1881\n",
            "Epoch 11/20\n",
            "\u001b[1m382/382\u001b[0m \u001b[32m━━━━━━━━━━━━━━━━━━━━\u001b[0m\u001b[37m\u001b[0m \u001b[1m21s\u001b[0m 30ms/step - accuracy: 0.9747 - loss: 0.0890 - val_accuracy: 0.9470 - val_loss: 0.1781\n",
            "Epoch 12/20\n",
            "\u001b[1m382/382\u001b[0m \u001b[32m━━━━━━━━━━━━━━━━━━━━\u001b[0m\u001b[37m\u001b[0m \u001b[1m21s\u001b[0m 30ms/step - accuracy: 0.9795 - loss: 0.0771 - val_accuracy: 0.9345 - val_loss: 0.2073\n",
            "Epoch 13/20\n",
            "\u001b[1m382/382\u001b[0m \u001b[32m━━━━━━━━━━━━━━━━━━━━\u001b[0m\u001b[37m\u001b[0m \u001b[1m11s\u001b[0m 29ms/step - accuracy: 0.9824 - loss: 0.0695 - val_accuracy: 0.9280 - val_loss: 0.2152\n",
            "Epoch 14/20\n",
            "\u001b[1m382/382\u001b[0m \u001b[32m━━━━━━━━━━━━━━━━━━━━\u001b[0m\u001b[37m\u001b[0m \u001b[1m11s\u001b[0m 29ms/step - accuracy: 0.9847 - loss: 0.0577 - val_accuracy: 0.9545 - val_loss: 0.1579\n",
            "Epoch 15/20\n",
            "\u001b[1m382/382\u001b[0m \u001b[32m━━━━━━━━━━━━━━━━━━━━\u001b[0m\u001b[37m\u001b[0m \u001b[1m21s\u001b[0m 29ms/step - accuracy: 0.9884 - loss: 0.0467 - val_accuracy: 0.9368 - val_loss: 0.2094\n",
            "Epoch 16/20\n",
            "\u001b[1m382/382\u001b[0m \u001b[32m━━━━━━━━━━━━━━━━━━━━\u001b[0m\u001b[37m\u001b[0m \u001b[1m21s\u001b[0m 31ms/step - accuracy: 0.9876 - loss: 0.0452 - val_accuracy: 0.9034 - val_loss: 0.3116\n",
            "Epoch 17/20\n",
            "\u001b[1m382/382\u001b[0m \u001b[32m━━━━━━━━━━━━━━━━━━━━\u001b[0m\u001b[37m\u001b[0m \u001b[1m20s\u001b[0m 29ms/step - accuracy: 0.9891 - loss: 0.0446 - val_accuracy: 0.9352 - val_loss: 0.2063\n",
            "Epoch 18/20\n",
            "\u001b[1m382/382\u001b[0m \u001b[32m━━━━━━━━━━━━━━━━━━━━\u001b[0m\u001b[37m\u001b[0m \u001b[1m21s\u001b[0m 30ms/step - accuracy: 0.9910 - loss: 0.0349 - val_accuracy: 0.9457 - val_loss: 0.1745\n",
            "Epoch 19/20\n",
            "\u001b[1m382/382\u001b[0m \u001b[32m━━━━━━━━━━━━━━━━━━━━\u001b[0m\u001b[37m\u001b[0m \u001b[1m21s\u001b[0m 31ms/step - accuracy: 0.9910 - loss: 0.0374 - val_accuracy: 0.9257 - val_loss: 0.2477\n",
            "Epoch 20/20\n",
            "\u001b[1m382/382\u001b[0m \u001b[32m━━━━━━━━━━━━━━━━━━━━\u001b[0m\u001b[37m\u001b[0m \u001b[1m20s\u001b[0m 30ms/step - accuracy: 0.9923 - loss: 0.0312 - val_accuracy: 0.9565 - val_loss: 0.1369\n"
          ]
        },
        {
          "output_type": "execute_result",
          "data": {
            "text/plain": [
              "<keras.src.callbacks.history.History at 0x7ee203414a10>"
            ]
          },
          "metadata": {},
          "execution_count": 20
        }
      ]
    },
    {
      "cell_type": "code",
      "source": [
        "loss, acc = model.evaluate(X_test, y_test)\n",
        "print(\"Test Accuracy:\", acc)"
      ],
      "metadata": {
        "colab": {
          "base_uri": "https://localhost:8080/"
        },
        "id": "y2kyEap42Xk6",
        "outputId": "484ce21b-79ed-4888-e67d-dc20bafc7aba"
      },
      "execution_count": 21,
      "outputs": [
        {
          "output_type": "stream",
          "name": "stdout",
          "text": [
            "\u001b[1m96/96\u001b[0m \u001b[32m━━━━━━━━━━━━━━━━━━━━\u001b[0m\u001b[37m\u001b[0m \u001b[1m1s\u001b[0m 10ms/step - accuracy: 0.9654 - loss: 0.1199\n",
            "Test Accuracy: 0.9564648270606995\n"
          ]
        }
      ]
    },
    {
      "cell_type": "code",
      "source": [
        "from sklearn.metrics import confusion_matrix, ConfusionMatrixDisplay\n",
        "import matplotlib.pyplot as plt\n",
        "y_pred = model.predict(X_test)\n",
        "y_pred_classes = np.argmax(y_pred, axis=1)\n",
        "y_true_classes = np.argmax(y_test, axis=1)\n",
        "\n",
        "cm = confusion_matrix(y_true_classes, y_pred_classes)\n",
        "labels = le.classes_\n",
        "\n",
        "ConfusionMatrixDisplay(confusion_matrix=cm, display_labels=labels).plot(xticks_rotation=45, cmap='Blues')\n",
        "plt.title(\"Confusion Matrix\")\n",
        "plt.tight_layout()\n",
        "plt.show()"
      ],
      "metadata": {
        "colab": {
          "base_uri": "https://localhost:8080/",
          "height": 504
        },
        "id": "niaq8NPp4KHj",
        "outputId": "3132fc3d-3018-4205-d24a-d17dc2c47b95"
      },
      "execution_count": 25,
      "outputs": [
        {
          "output_type": "stream",
          "name": "stdout",
          "text": [
            "\u001b[1m96/96\u001b[0m \u001b[32m━━━━━━━━━━━━━━━━━━━━\u001b[0m\u001b[37m\u001b[0m \u001b[1m1s\u001b[0m 8ms/step\n"
          ]
        },
        {
          "output_type": "display_data",
          "data": {
            "text/plain": [
              "<Figure size 640x480 with 2 Axes>"
            ],
            "image/png": "[encoded data removed]"
          },
          "metadata": {}
        }
      ]
    },
    {
      "cell_type": "code",
      "source": [
        "import pickle\n",
        "with open(\"label_encoder.pkl\", \"wb\") as f:\n",
        "    pickle.dump(le, f)\n"
      ],
      "metadata": {
        "id": "xv7yQw7N3zxV"
      },
      "execution_count": 22,
      "outputs": []
    }
  ]
}